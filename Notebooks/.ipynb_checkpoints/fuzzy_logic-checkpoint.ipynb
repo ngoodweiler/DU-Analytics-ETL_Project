{
 "cells": [
  {
   "cell_type": "code",
   "execution_count": 12,
   "metadata": {},
   "outputs": [],
   "source": [
    "import pandas as pd\n",
    "from fuzzywuzzy import fuzz\n",
    "from fuzzywuzzy import process\n",
    "import string\n",
    "billboard_csv = '../Resources/billboard_lyrics_1964-2015.csv'\n",
    "song_list_csv = '../Resources/song_info.csv'"
   ]
  },
  {
   "cell_type": "code",
   "execution_count": 3,
   "metadata": {},
   "outputs": [
    {
     "data": {
      "text/html": [
       "<div>\n",
       "<style scoped>\n",
       "    .dataframe tbody tr th:only-of-type {\n",
       "        vertical-align: middle;\n",
       "    }\n",
       "\n",
       "    .dataframe tbody tr th {\n",
       "        vertical-align: top;\n",
       "    }\n",
       "\n",
       "    .dataframe thead th {\n",
       "        text-align: right;\n",
       "    }\n",
       "</style>\n",
       "<table border=\"1\" class=\"dataframe\">\n",
       "  <thead>\n",
       "    <tr style=\"text-align: right;\">\n",
       "      <th></th>\n",
       "      <th>Rank</th>\n",
       "      <th>Song</th>\n",
       "      <th>Artist</th>\n",
       "      <th>Year</th>\n",
       "      <th>Lyrics</th>\n",
       "      <th>Source</th>\n",
       "    </tr>\n",
       "  </thead>\n",
       "  <tbody>\n",
       "    <tr>\n",
       "      <td>0</td>\n",
       "      <td>1</td>\n",
       "      <td>wooly bully</td>\n",
       "      <td>sam the sham and the pharaohs</td>\n",
       "      <td>1965</td>\n",
       "      <td>sam the sham miscellaneous wooly bully wooly b...</td>\n",
       "      <td>3.0</td>\n",
       "    </tr>\n",
       "    <tr>\n",
       "      <td>1</td>\n",
       "      <td>2</td>\n",
       "      <td>i cant help myself sugar pie honey bunch</td>\n",
       "      <td>four tops</td>\n",
       "      <td>1965</td>\n",
       "      <td>sugar pie honey bunch you know that i love yo...</td>\n",
       "      <td>1.0</td>\n",
       "    </tr>\n",
       "    <tr>\n",
       "      <td>2</td>\n",
       "      <td>3</td>\n",
       "      <td>i cant get no satisfaction</td>\n",
       "      <td>the rolling stones</td>\n",
       "      <td>1965</td>\n",
       "      <td></td>\n",
       "      <td>1.0</td>\n",
       "    </tr>\n",
       "    <tr>\n",
       "      <td>3</td>\n",
       "      <td>4</td>\n",
       "      <td>you were on my mind</td>\n",
       "      <td>we five</td>\n",
       "      <td>1965</td>\n",
       "      <td>when i woke up this morning you were on my mi...</td>\n",
       "      <td>1.0</td>\n",
       "    </tr>\n",
       "    <tr>\n",
       "      <td>4</td>\n",
       "      <td>5</td>\n",
       "      <td>youve lost that lovin feelin</td>\n",
       "      <td>the righteous brothers</td>\n",
       "      <td>1965</td>\n",
       "      <td>you never close your eyes anymore when i kiss...</td>\n",
       "      <td>1.0</td>\n",
       "    </tr>\n",
       "  </tbody>\n",
       "</table>\n",
       "</div>"
      ],
      "text/plain": [
       "   Rank                                      Song  \\\n",
       "0     1                               wooly bully   \n",
       "1     2  i cant help myself sugar pie honey bunch   \n",
       "2     3                i cant get no satisfaction   \n",
       "3     4                       you were on my mind   \n",
       "4     5              youve lost that lovin feelin   \n",
       "\n",
       "                          Artist  Year  \\\n",
       "0  sam the sham and the pharaohs  1965   \n",
       "1                      four tops  1965   \n",
       "2             the rolling stones  1965   \n",
       "3                        we five  1965   \n",
       "4         the righteous brothers  1965   \n",
       "\n",
       "                                              Lyrics  Source  \n",
       "0  sam the sham miscellaneous wooly bully wooly b...     3.0  \n",
       "1   sugar pie honey bunch you know that i love yo...     1.0  \n",
       "2                                                        1.0  \n",
       "3   when i woke up this morning you were on my mi...     1.0  \n",
       "4   you never close your eyes anymore when i kiss...     1.0  "
      ]
     },
     "execution_count": 3,
     "metadata": {},
     "output_type": "execute_result"
    }
   ],
   "source": [
    "# set dataframes from csv files\n",
    "billboard_df = pd.read_csv(billboard_csv, encoding = 'ISO-8859-1')\n",
    "billboard_df.head()"
   ]
  },
  {
   "cell_type": "code",
   "execution_count": 5,
   "metadata": {},
   "outputs": [
    {
     "data": {
      "text/html": [
       "<div>\n",
       "<style scoped>\n",
       "    .dataframe tbody tr th:only-of-type {\n",
       "        vertical-align: middle;\n",
       "    }\n",
       "\n",
       "    .dataframe tbody tr th {\n",
       "        vertical-align: top;\n",
       "    }\n",
       "\n",
       "    .dataframe thead th {\n",
       "        text-align: right;\n",
       "    }\n",
       "</style>\n",
       "<table border=\"1\" class=\"dataframe\">\n",
       "  <thead>\n",
       "    <tr style=\"text-align: right;\">\n",
       "      <th></th>\n",
       "      <th>song_name</th>\n",
       "      <th>artist_name</th>\n",
       "      <th>album_names</th>\n",
       "      <th>playlist</th>\n",
       "    </tr>\n",
       "  </thead>\n",
       "  <tbody>\n",
       "    <tr>\n",
       "      <td>0</td>\n",
       "      <td>Boulevard of Broken Dreams</td>\n",
       "      <td>Green Day</td>\n",
       "      <td>Greatest Hits: God's Favorite Band</td>\n",
       "      <td>00s Rock Anthems</td>\n",
       "    </tr>\n",
       "    <tr>\n",
       "      <td>1</td>\n",
       "      <td>In The End</td>\n",
       "      <td>Linkin Park</td>\n",
       "      <td>Hybrid Theory</td>\n",
       "      <td>00s Rock Anthems</td>\n",
       "    </tr>\n",
       "    <tr>\n",
       "      <td>2</td>\n",
       "      <td>Seven Nation Army</td>\n",
       "      <td>The White Stripes</td>\n",
       "      <td>Elephant</td>\n",
       "      <td>00s Rock Anthems</td>\n",
       "    </tr>\n",
       "    <tr>\n",
       "      <td>3</td>\n",
       "      <td>By The Way</td>\n",
       "      <td>Red Hot Chili Peppers</td>\n",
       "      <td>By The Way (Deluxe Version)</td>\n",
       "      <td>00s Rock Anthems</td>\n",
       "    </tr>\n",
       "    <tr>\n",
       "      <td>4</td>\n",
       "      <td>How You Remind Me</td>\n",
       "      <td>Nickelback</td>\n",
       "      <td>Silver Side Up</td>\n",
       "      <td>00s Rock Anthems</td>\n",
       "    </tr>\n",
       "  </tbody>\n",
       "</table>\n",
       "</div>"
      ],
      "text/plain": [
       "                    song_name            artist_name  \\\n",
       "0  Boulevard of Broken Dreams              Green Day   \n",
       "1                  In The End            Linkin Park   \n",
       "2           Seven Nation Army      The White Stripes   \n",
       "3                  By The Way  Red Hot Chili Peppers   \n",
       "4           How You Remind Me             Nickelback   \n",
       "\n",
       "                          album_names          playlist  \n",
       "0  Greatest Hits: God's Favorite Band  00s Rock Anthems  \n",
       "1                       Hybrid Theory  00s Rock Anthems  \n",
       "2                            Elephant  00s Rock Anthems  \n",
       "3         By The Way (Deluxe Version)  00s Rock Anthems  \n",
       "4                      Silver Side Up  00s Rock Anthems  "
      ]
     },
     "execution_count": 5,
     "metadata": {},
     "output_type": "execute_result"
    }
   ],
   "source": [
    "song_df = pd.read_csv(song_list_csv)\n",
    "song_df.head()"
   ]
  },
  {
   "cell_type": "code",
   "execution_count": 6,
   "metadata": {},
   "outputs": [],
   "source": [
    "# add columns to both dfs with lowercase song names\n",
    "billboard_df['fuzzy_name'] = billboard_df['Song'].apply(lambda x: x.lower())\n",
    "song_df['fuzzy_name'] = song_df['song_name'].apply(lambda x: x.lower())"
   ]
  },
  {
   "cell_type": "code",
   "execution_count": 17,
   "metadata": {},
   "outputs": [],
   "source": [
    "# remove punctuation from lowercase names\n",
    "trans_table = str.maketrans('','',string.punctuation)\n",
    "billboard_df['fuzzy_name'] = billboard_df['fuzzy_name'].apply(lambda x: x.translate(trans_table))\n",
    "song_df['fuzzy_name'] = song_df['fuzzy_name'].apply(lambda x: x.translate(trans_table))"
   ]
  },
  {
   "cell_type": "code",
   "execution_count": 20,
   "metadata": {},
   "outputs": [
    {
     "data": {
      "text/html": [
       "<div>\n",
       "<style scoped>\n",
       "    .dataframe tbody tr th:only-of-type {\n",
       "        vertical-align: middle;\n",
       "    }\n",
       "\n",
       "    .dataframe tbody tr th {\n",
       "        vertical-align: top;\n",
       "    }\n",
       "\n",
       "    .dataframe thead th {\n",
       "        text-align: right;\n",
       "    }\n",
       "</style>\n",
       "<table border=\"1\" class=\"dataframe\">\n",
       "  <thead>\n",
       "    <tr style=\"text-align: right;\">\n",
       "      <th></th>\n",
       "      <th>song_name</th>\n",
       "      <th>artist_name</th>\n",
       "      <th>album_names</th>\n",
       "      <th>playlist</th>\n",
       "      <th>fuzzy_name</th>\n",
       "    </tr>\n",
       "  </thead>\n",
       "  <tbody>\n",
       "    <tr>\n",
       "      <td>18825</td>\n",
       "      <td>Something Familiar</td>\n",
       "      <td>Josienne Clarke and Ben Walker</td>\n",
       "      <td>Overnight</td>\n",
       "      <td>Your Favorite Coffeehouse</td>\n",
       "      <td>something familiar</td>\n",
       "    </tr>\n",
       "    <tr>\n",
       "      <td>18826</td>\n",
       "      <td>Call It Dreaming</td>\n",
       "      <td>Iron &amp; Wine</td>\n",
       "      <td>Beast Epic</td>\n",
       "      <td>Your Favorite Coffeehouse</td>\n",
       "      <td>call it dreaming</td>\n",
       "    </tr>\n",
       "    <tr>\n",
       "      <td>18827</td>\n",
       "      <td>Stay Awake</td>\n",
       "      <td>Joseph</td>\n",
       "      <td>Stay Awake</td>\n",
       "      <td>Your Favorite Coffeehouse</td>\n",
       "      <td>stay awake</td>\n",
       "    </tr>\n",
       "    <tr>\n",
       "      <td>18828</td>\n",
       "      <td>Build Me Up From Bones</td>\n",
       "      <td>Sarah Jarosz</td>\n",
       "      <td>Build Me Up From Bones</td>\n",
       "      <td>Your Favorite Coffeehouse</td>\n",
       "      <td>build me up from bones</td>\n",
       "    </tr>\n",
       "    <tr>\n",
       "      <td>18829</td>\n",
       "      <td>I Know</td>\n",
       "      <td>Sammy Brue</td>\n",
       "      <td>I Am Nice</td>\n",
       "      <td>Your Favorite Coffeehouse</td>\n",
       "      <td>i know</td>\n",
       "    </tr>\n",
       "    <tr>\n",
       "      <td>18830</td>\n",
       "      <td>Let It Breathe</td>\n",
       "      <td>Water Liars</td>\n",
       "      <td>Water Liars</td>\n",
       "      <td>Your Favorite Coffeehouse</td>\n",
       "      <td>let it breathe</td>\n",
       "    </tr>\n",
       "    <tr>\n",
       "      <td>18831</td>\n",
       "      <td>Answers</td>\n",
       "      <td>Brooke Annibale</td>\n",
       "      <td>The Simple Fear</td>\n",
       "      <td>Your Favorite Coffeehouse</td>\n",
       "      <td>answers</td>\n",
       "    </tr>\n",
       "    <tr>\n",
       "      <td>18832</td>\n",
       "      <td>Sudden Love (Acoustic)</td>\n",
       "      <td>The Woodlands</td>\n",
       "      <td>Parallels, Vol. II</td>\n",
       "      <td>Your Favorite Coffeehouse</td>\n",
       "      <td>sudden love acoustic</td>\n",
       "    </tr>\n",
       "    <tr>\n",
       "      <td>18833</td>\n",
       "      <td>Gentle on My Mind</td>\n",
       "      <td>Robert Ellis</td>\n",
       "      <td>Dear John</td>\n",
       "      <td>Your Favorite Coffeehouse</td>\n",
       "      <td>gentle on my mind</td>\n",
       "    </tr>\n",
       "    <tr>\n",
       "      <td>18834</td>\n",
       "      <td>Up to Me</td>\n",
       "      <td>Sera Cahoone</td>\n",
       "      <td>Up to Me</td>\n",
       "      <td>Your Favorite Coffeehouse</td>\n",
       "      <td>up to me</td>\n",
       "    </tr>\n",
       "  </tbody>\n",
       "</table>\n",
       "</div>"
      ],
      "text/plain": [
       "                    song_name                     artist_name  \\\n",
       "18825      Something Familiar  Josienne Clarke and Ben Walker   \n",
       "18826        Call It Dreaming                     Iron & Wine   \n",
       "18827              Stay Awake                          Joseph   \n",
       "18828  Build Me Up From Bones                    Sarah Jarosz   \n",
       "18829                  I Know                      Sammy Brue   \n",
       "18830          Let It Breathe                     Water Liars   \n",
       "18831                 Answers                 Brooke Annibale   \n",
       "18832  Sudden Love (Acoustic)                   The Woodlands   \n",
       "18833       Gentle on My Mind                    Robert Ellis   \n",
       "18834                Up to Me                    Sera Cahoone   \n",
       "\n",
       "                  album_names                   playlist  \\\n",
       "18825               Overnight  Your Favorite Coffeehouse   \n",
       "18826              Beast Epic  Your Favorite Coffeehouse   \n",
       "18827              Stay Awake  Your Favorite Coffeehouse   \n",
       "18828  Build Me Up From Bones  Your Favorite Coffeehouse   \n",
       "18829               I Am Nice  Your Favorite Coffeehouse   \n",
       "18830             Water Liars  Your Favorite Coffeehouse   \n",
       "18831         The Simple Fear  Your Favorite Coffeehouse   \n",
       "18832      Parallels, Vol. II  Your Favorite Coffeehouse   \n",
       "18833               Dear John  Your Favorite Coffeehouse   \n",
       "18834                Up to Me  Your Favorite Coffeehouse   \n",
       "\n",
       "                   fuzzy_name  \n",
       "18825      something familiar  \n",
       "18826        call it dreaming  \n",
       "18827              stay awake  \n",
       "18828  build me up from bones  \n",
       "18829                  i know  \n",
       "18830          let it breathe  \n",
       "18831                 answers  \n",
       "18832    sudden love acoustic  \n",
       "18833       gentle on my mind  \n",
       "18834                up to me  "
      ]
     },
     "execution_count": 20,
     "metadata": {},
     "output_type": "execute_result"
    }
   ],
   "source": [
    "# used song_df.tail as verification to see song # 18832 which has parentheses removed\n",
    "song_df.tail(10)"
   ]
  },
  {
   "cell_type": "code",
   "execution_count": 61,
   "metadata": {},
   "outputs": [
    {
     "data": {
      "text/plain": [
       "('i cant get no satisfaction', 100, 251)"
      ]
     },
     "execution_count": 61,
     "metadata": {},
     "output_type": "execute_result"
    }
   ],
   "source": [
    "# fuzzy testing\n",
    "query = billboard_df['fuzzy_name'][2]\n",
    "choices = song_df['fuzzy_name']\n",
    "# yields only top result\n",
    "result = process.extractOne(query,choices)\n",
    "result"
   ]
  },
  {
   "cell_type": "code",
   "execution_count": 62,
   "metadata": {},
   "outputs": [
    {
     "data": {
      "text/plain": [
       "[('i cant get no satisfaction', 100, 251),\n",
       " ('i can', 90, 3751),\n",
       " ('satisfaction', 90, 5709),\n",
       " ('i can', 90, 9356),\n",
       " ('cant stop', 86, 13)]"
      ]
     },
     "execution_count": 62,
     "metadata": {},
     "output_type": "execute_result"
    }
   ],
   "source": [
    "# top 5 results\n",
    "results = process.extract(query,choices)\n",
    "results"
   ]
  },
  {
   "cell_type": "code",
   "execution_count": 63,
   "metadata": {},
   "outputs": [
    {
     "data": {
      "text/plain": [
       "song_name           (I Can't Get No) Satisfaction\n",
       "artist_name                    The Rolling Stones\n",
       "album_names    Hot Rocks (1964-1971) [Remastered]\n",
       "playlist                         60s Rock Anthems\n",
       "fuzzy_name             i cant get no satisfaction\n",
       "Name: 251, dtype: object"
      ]
     },
     "execution_count": 63,
     "metadata": {},
     "output_type": "execute_result"
    }
   ],
   "source": [
    "# double check information\n",
    "song_df.loc[251]"
   ]
  },
  {
   "cell_type": "code",
   "execution_count": 71,
   "metadata": {},
   "outputs": [
    {
     "data": {
      "text/plain": [
       "100"
      ]
     },
     "execution_count": 71,
     "metadata": {},
     "output_type": "execute_result"
    }
   ],
   "source": [
    "# will reference only 2010-2015 data\n",
    "result[1]\n"
   ]
  },
  {
   "cell_type": "code",
   "execution_count": 72,
   "metadata": {},
   "outputs": [],
   "source": [
    "# loop through billboard df\n",
    "query_name = []\n",
    "matched_name = []\n",
    "ratio_value = []\n",
    "song_index = []\n",
    "fuzzy_list = []\n",
    "choices = song_df['fuzzy_name']\n",
    "for i in range(len(billboard_df)):\n",
    "    query = billboard_df['fuzzy_name'][i]\n",
    "    query_name.append(billboard_df['fuzzy_name'][i])\n",
    "#     matched_name.append(process.extractOne(query,choices)[0])\n",
    "#     ratio_value.append(process.extractOne(query,choices)[1])\n",
    "#     song_index.append(process.extractOne(query,choices)[2])\n",
    "    fuzzy_list.append(process.extractOne(query,choices))"
   ]
  },
  {
   "cell_type": "code",
   "execution_count": 80,
   "metadata": {},
   "outputs": [
    {
     "data": {
      "text/plain": [
       "'i cant get no satisfaction'"
      ]
     },
     "execution_count": 80,
     "metadata": {},
     "output_type": "execute_result"
    }
   ],
   "source": [
    "fuzzy_list[2][0]"
   ]
  },
  {
   "cell_type": "code",
   "execution_count": 82,
   "metadata": {},
   "outputs": [],
   "source": [
    "for i in range(len(fuzzy_list)):\n",
    "    matched_name.append(fuzzy_list[i][0])\n",
    "    ratio_value.append(fuzzy_list[i][1])\n",
    "    song_index.append(fuzzy_list[i][2])"
   ]
  },
  {
   "cell_type": "code",
   "execution_count": 88,
   "metadata": {},
   "outputs": [],
   "source": [
    "fuzzy_dict = {'Song Name':query_name,\n",
    "             'Matched Name':matched_name,\n",
    "             'Ratio Value':ratio_value,\n",
    "             'Song List Index':song_index}\n",
    "fuzzy_df = pd.DataFrame(fuzzy_dict)"
   ]
  },
  {
   "cell_type": "code",
   "execution_count": 89,
   "metadata": {},
   "outputs": [
    {
     "data": {
      "text/html": [
       "<div>\n",
       "<style scoped>\n",
       "    .dataframe tbody tr th:only-of-type {\n",
       "        vertical-align: middle;\n",
       "    }\n",
       "\n",
       "    .dataframe tbody tr th {\n",
       "        vertical-align: top;\n",
       "    }\n",
       "\n",
       "    .dataframe thead th {\n",
       "        text-align: right;\n",
       "    }\n",
       "</style>\n",
       "<table border=\"1\" class=\"dataframe\">\n",
       "  <thead>\n",
       "    <tr style=\"text-align: right;\">\n",
       "      <th></th>\n",
       "      <th>Song Name</th>\n",
       "      <th>Matched Name</th>\n",
       "      <th>Ratio Value</th>\n",
       "      <th>Song List Index</th>\n",
       "    </tr>\n",
       "  </thead>\n",
       "  <tbody>\n",
       "    <tr>\n",
       "      <td>0</td>\n",
       "      <td>wooly bully</td>\n",
       "      <td>wo</td>\n",
       "      <td>90</td>\n",
       "      <td>12363</td>\n",
       "    </tr>\n",
       "    <tr>\n",
       "      <td>1</td>\n",
       "      <td>i cant help myself sugar pie honey bunch</td>\n",
       "      <td>i cant help myself sugar pie honey bunch</td>\n",
       "      <td>100</td>\n",
       "      <td>3863</td>\n",
       "    </tr>\n",
       "    <tr>\n",
       "      <td>2</td>\n",
       "      <td>i cant get no satisfaction</td>\n",
       "      <td>i cant get no satisfaction</td>\n",
       "      <td>100</td>\n",
       "      <td>251</td>\n",
       "    </tr>\n",
       "    <tr>\n",
       "      <td>3</td>\n",
       "      <td>you were on my mind</td>\n",
       "      <td>youre on my mind</td>\n",
       "      <td>91</td>\n",
       "      <td>11156</td>\n",
       "    </tr>\n",
       "    <tr>\n",
       "      <td>4</td>\n",
       "      <td>youve lost that lovin feelin</td>\n",
       "      <td>lost</td>\n",
       "      <td>90</td>\n",
       "      <td>4415</td>\n",
       "    </tr>\n",
       "    <tr>\n",
       "      <td>...</td>\n",
       "      <td>...</td>\n",
       "      <td>...</td>\n",
       "      <td>...</td>\n",
       "      <td>...</td>\n",
       "    </tr>\n",
       "    <tr>\n",
       "      <td>5095</td>\n",
       "      <td>el perdon</td>\n",
       "      <td>el perdón</td>\n",
       "      <td>94</td>\n",
       "      <td>10269</td>\n",
       "    </tr>\n",
       "    <tr>\n",
       "      <td>5096</td>\n",
       "      <td>she knows</td>\n",
       "      <td>now</td>\n",
       "      <td>90</td>\n",
       "      <td>10519</td>\n",
       "    </tr>\n",
       "    <tr>\n",
       "      <td>5097</td>\n",
       "      <td>night changes</td>\n",
       "      <td>change</td>\n",
       "      <td>90</td>\n",
       "      <td>1815</td>\n",
       "    </tr>\n",
       "    <tr>\n",
       "      <td>5098</td>\n",
       "      <td>back to back</td>\n",
       "      <td>back to back</td>\n",
       "      <td>100</td>\n",
       "      <td>3684</td>\n",
       "    </tr>\n",
       "    <tr>\n",
       "      <td>5099</td>\n",
       "      <td>how deep is your love</td>\n",
       "      <td>how deep is your love</td>\n",
       "      <td>100</td>\n",
       "      <td>13160</td>\n",
       "    </tr>\n",
       "  </tbody>\n",
       "</table>\n",
       "<p>5100 rows × 4 columns</p>\n",
       "</div>"
      ],
      "text/plain": [
       "                                     Song Name  \\\n",
       "0                                  wooly bully   \n",
       "1     i cant help myself sugar pie honey bunch   \n",
       "2                   i cant get no satisfaction   \n",
       "3                          you were on my mind   \n",
       "4                 youve lost that lovin feelin   \n",
       "...                                        ...   \n",
       "5095                                 el perdon   \n",
       "5096                                 she knows   \n",
       "5097                             night changes   \n",
       "5098                              back to back   \n",
       "5099                     how deep is your love   \n",
       "\n",
       "                                  Matched Name  Ratio Value  Song List Index  \n",
       "0                                           wo           90            12363  \n",
       "1     i cant help myself sugar pie honey bunch          100             3863  \n",
       "2                   i cant get no satisfaction          100              251  \n",
       "3                             youre on my mind           91            11156  \n",
       "4                                         lost           90             4415  \n",
       "...                                        ...          ...              ...  \n",
       "5095                                 el perdón           94            10269  \n",
       "5096                                       now           90            10519  \n",
       "5097                                    change           90             1815  \n",
       "5098                              back to back          100             3684  \n",
       "5099                     how deep is your love          100            13160  \n",
       "\n",
       "[5100 rows x 4 columns]"
      ]
     },
     "execution_count": 89,
     "metadata": {},
     "output_type": "execute_result"
    }
   ],
   "source": [
    "fuzzy_df"
   ]
  },
  {
   "cell_type": "code",
   "execution_count": null,
   "metadata": {},
   "outputs": [],
   "source": []
  }
 ],
 "metadata": {
  "kernelspec": {
   "display_name": "Python 3",
   "language": "python",
   "name": "python3"
  },
  "language_info": {
   "codemirror_mode": {
    "name": "ipython",
    "version": 3
   },
   "file_extension": ".py",
   "mimetype": "text/x-python",
   "name": "python",
   "nbconvert_exporter": "python",
   "pygments_lexer": "ipython3",
   "version": "3.7.4"
  }
 },
 "nbformat": 4,
 "nbformat_minor": 2
}
